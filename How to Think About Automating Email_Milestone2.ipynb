{
 "cells": [
  {
   "cell_type": "code",
   "execution_count": 23,
   "id": "aa1dbc19",
   "metadata": {},
   "outputs": [],
   "source": [
    "import numpy as np\n",
    "import pandas as pd"
   ]
  },
  {
   "cell_type": "code",
   "execution_count": 24,
   "id": "67dfb511",
   "metadata": {},
   "outputs": [
    {
     "data": {
      "text/html": [
       "<div>\n",
       "<style scoped>\n",
       "    .dataframe tbody tr th:only-of-type {\n",
       "        vertical-align: middle;\n",
       "    }\n",
       "\n",
       "    .dataframe tbody tr th {\n",
       "        vertical-align: top;\n",
       "    }\n",
       "\n",
       "    .dataframe thead th {\n",
       "        text-align: right;\n",
       "    }\n",
       "</style>\n",
       "<table border=\"1\" class=\"dataframe\">\n",
       "  <thead>\n",
       "    <tr style=\"text-align: right;\">\n",
       "      <th></th>\n",
       "      <th>a@a.a</th>\n",
       "      <th>Bell</th>\n",
       "      <th>Ana</th>\n",
       "      <th>60</th>\n",
       "      <th>good</th>\n",
       "      <th>70</th>\n",
       "      <th>better</th>\n",
       "      <th>80</th>\n",
       "      <th>best</th>\n",
       "    </tr>\n",
       "  </thead>\n",
       "  <tbody>\n",
       "    <tr>\n",
       "      <th>0</th>\n",
       "      <td>b@b.b</td>\n",
       "      <td>Pop</td>\n",
       "      <td>Banana</td>\n",
       "      <td>10</td>\n",
       "      <td>worst</td>\n",
       "      <td>20</td>\n",
       "      <td>bad</td>\n",
       "      <td>30</td>\n",
       "      <td>ok</td>\n",
       "    </tr>\n",
       "  </tbody>\n",
       "</table>\n",
       "</div>"
      ],
      "text/plain": [
       "   a@a.a Bell     Ana  60   good  70 better  80 best\n",
       "0  b@b.b  Pop  Banana  10  worst  20    bad  30   ok"
      ]
     },
     "execution_count": 24,
     "metadata": {},
     "output_type": "execute_result"
    }
   ],
   "source": [
    "exam_data = pd.read_csv(\"C:/Users/cynth/Documents/Five_Python_Projects/exam.csv\")\n",
    "exam_data"
   ]
  },
  {
   "cell_type": "markdown",
   "id": "d85f8f10",
   "metadata": {},
   "source": [
    "**Fields read from above**\n",
    "\n",
    "Email:\n",
    "\n",
    "Last name:\n",
    "\n",
    "First name:\n",
    "\n",
    "Problem 1 score:\n",
    "\n",
    "Problem 1 comments:\n",
    "\n",
    "Problem 2 score:\n",
    "\n",
    "Problem 2 comments:\n",
    "\n",
    "Problem 3 score:\n",
    "\n",
    "Problem 3 comments:\n"
   ]
  },
  {
   "cell_type": "code",
   "execution_count": 25,
   "id": "ace4443c",
   "metadata": {},
   "outputs": [],
   "source": [
    "s_1 = {\"Email\": \"a@a.a\", \"Last name\": \"Bell\", \"First name\":\"Ana\", \"Problem 1 score\": 60, \"Problem 1 comments\": \"good\", \n",
    "             \"Problem 2 score\": 70, \"Problem 2 comments\": \"better\", \"Problem 2 score\": 80, \"Problem 3 comments\": \"best\"}\n",
    "\n",
    "s_2 = {\"Email\": \"b@b.b\", \"Last name\": \"Pop\", \"First name\":\"Banana\", \"Problem 1 score\": 10, \"Problem 1 comments\": \"worst\", \n",
    "             \"Problem 2 score\": 20, \"Problem 2 comments\": \"bad\", \"Problem 3 score\": 30, \"Problem 3 comments\": \"ok\"}\n",
    "\n",
    "s_3 = {\"Email\": \"cynthiacrystalcho@comcast.net\", \"Last name\": \"Cho\", \"First name\":\"Cynthia\", \"Problem 1 score\": 60, \"Problem 1 comments\": \"good\", \n",
    "             \"Problem 2 score\": 70, \"Problem 2 comments\": \"good\", \"Problem 2 score\": 90, \"Problem 3 comments\": \"best\"}"
   ]
  },
  {
   "cell_type": "code",
   "execution_count": 26,
   "id": "238c89f0",
   "metadata": {},
   "outputs": [
    {
     "data": {
      "text/plain": [
       "{'Email': 'a@a.a',\n",
       " 'Last name': 'Bell',\n",
       " 'First name': 'Ana',\n",
       " 'Problem 1 score': 60,\n",
       " 'Problem 1 comments': 'good',\n",
       " 'Problem 2 score': 80,\n",
       " 'Problem 2 comments': 'better',\n",
       " 'Problem 3 comments': 'best'}"
      ]
     },
     "execution_count": 26,
     "metadata": {},
     "output_type": "execute_result"
    }
   ],
   "source": [
    "s_1"
   ]
  },
  {
   "cell_type": "code",
   "execution_count": 27,
   "id": "2e38c95a",
   "metadata": {},
   "outputs": [
    {
     "data": {
      "text/plain": [
       "{'Email': 'b@b.b',\n",
       " 'Last name': 'Pop',\n",
       " 'First name': 'Banana',\n",
       " 'Problem 1 score': 10,\n",
       " 'Problem 1 comments': 'worst',\n",
       " 'Problem 2 score': 20,\n",
       " 'Problem 2 comments': 'bad',\n",
       " 'Problem 3 score': 30,\n",
       " 'Problem 3 comments': 'ok'}"
      ]
     },
     "execution_count": 27,
     "metadata": {},
     "output_type": "execute_result"
    }
   ],
   "source": [
    "s_2"
   ]
  },
  {
   "cell_type": "code",
   "execution_count": 28,
   "id": "d989cf0e",
   "metadata": {},
   "outputs": [
    {
     "data": {
      "text/plain": [
       "{'Email': 'cynthiacrystalcho@comcast.net',\n",
       " 'Last name': 'Cho',\n",
       " 'First name': 'Cynthia',\n",
       " 'Problem 1 score': 60,\n",
       " 'Problem 1 comments': 'good',\n",
       " 'Problem 2 score': 90,\n",
       " 'Problem 2 comments': 'good',\n",
       " 'Problem 3 comments': 'best'}"
      ]
     },
     "execution_count": 28,
     "metadata": {},
     "output_type": "execute_result"
    }
   ],
   "source": [
    "s_3"
   ]
  },
  {
   "cell_type": "code",
   "execution_count": 29,
   "id": "c1f4c796",
   "metadata": {},
   "outputs": [
    {
     "ename": "SyntaxError",
     "evalue": "invalid syntax (3677397115.py, line 1)",
     "output_type": "error",
     "traceback": [
      "\u001b[1;36m  Cell \u001b[1;32mIn[29], line 1\u001b[1;36m\u001b[0m\n\u001b[1;33m    def find_score(email: stud)\u001b[0m\n\u001b[1;37m                               ^\u001b[0m\n\u001b[1;31mSyntaxError\u001b[0m\u001b[1;31m:\u001b[0m invalid syntax\n"
     ]
    }
   ],
   "source": [
    "def find_score(email, s_1):\n",
    "    for email in student:\n",
    "        while"
   ]
  }
 ],
 "metadata": {
  "kernelspec": {
   "display_name": "Python 3 (ipykernel)",
   "language": "python",
   "name": "python3"
  },
  "language_info": {
   "codemirror_mode": {
    "name": "ipython",
    "version": 3
   },
   "file_extension": ".py",
   "mimetype": "text/x-python",
   "name": "python",
   "nbconvert_exporter": "python",
   "pygments_lexer": "ipython3",
   "version": "3.9.16"
  }
 },
 "nbformat": 4,
 "nbformat_minor": 5
}
