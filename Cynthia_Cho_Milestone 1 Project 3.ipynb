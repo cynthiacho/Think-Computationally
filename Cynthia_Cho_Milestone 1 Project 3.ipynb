{
 "cells": [
  {
   "cell_type": "markdown",
   "id": "6d74e5fd",
   "metadata": {},
   "source": [
    "**Resources**\n",
    "\n",
    "https://livebook.manning.com/book/the-quick-python-book-third-edition/chapter-4/99\n",
    "\n",
    "https://livebook.manning.com/book/get-programming/chapter-35/41\n",
    "\n",
    "https://stackoverflow.com/\n",
    "\n",
    "https://www.tcl.tk/man/tcl8.6/TkCmd/contents.html\n",
    "\n",
    "https://learning-python.com/about-pp4e.html\n",
    "\n",
    "https://livebook.manning.com/book/get-programming/chapter-37/point-9399-1-86-1\n",
    "\n",
    "https://stackoverflow.com/questions/62712481/tkinter-why-is-there-such-a-thing-like-bbox\n",
    "\n",
    "https://livebook.manning.com/book/get-programming/chapter-35/74\n",
    "\n",
    "https://livebook.manning.com/book/get-programming/chapter-35/70\n",
    "\n",
    "https://livebook.manning.com/book/the-quick-python-book-third-edition/chapter-16/point-9402-1-104-1\n",
    "\n",
    "https://livebook.manning.com/book/the-quick-python-book-third-edition/chapter-16/14\n",
    "\n",
    "https://livebook.manning.com/book/get-programming/chapter-35/74\n",
    "\n",
    "https://livebook.manning.com/book/get-programming/chapter-35/63\n",
    "\n",
    "https://stackoverflow.com/questions/62712481/tkinter-why-is-there-such-a-thing-like-bbox\n",
    "\n",
    "https://livebook.manning.com/book/get-programming\n",
    "\n",
    "https://livebook.manning.com/book/the-quick-python-book-third-edition/chapter-4/98\n",
    "\n",
    "https://realpython.com/python-gui-tkinter/\n",
    "\n",
    "https://realpython.com/python-gui-tkinter/#building-your-first-python-gui-application-with-tkinter\n",
    "\n",
    "https://livebook.manning.com/book/the-quick-python-book-third-edition/chapter-4/\n",
    "\n",
    "https://livebook.manning.com/book/get-programming/chapter-37/46\n",
    "\n",
    "https://livebook.manning.com/book/get-programming/chapter-37/1\n",
    "\n",
    "https://livebook.manning.com/book/get-programming/chapter-37/1\n",
    "\n",
    "https://learning-python.com/ora-pp4e-large.jpg\n",
    "\n",
    "https://www.oreilly.com/member/login/\n",
    "\n",
    "\n",
    "\n"
   ]
  },
  {
   "cell_type": "markdown",
   "id": "8035a38c",
   "metadata": {},
   "source": [
    "Workflow\n",
    "\n",
    "Set up variables that will represent real life. To begin with, we will have 20 x 20 drops of water, evenly spaced out. We’ll ultimately loop over every drop on each iteration, but not every drop of water will become bigger on that iteration—we’ll assign a probability that the drop of water will get bigger. As a drop increases in size by a certain amount, at some point, it will reach a critical size. When this happens, reset its size back to the starting size. Additionally, reset all drops directly beneath this drop as well to simulate the drop rolling down. These are the initial variables of interest:\n",
    "\n",
    "window_size = 20 is the number of equally distributed drops of water on each of the x and y axes.\n",
    "\n",
    "rain_rate = 0.1 is the probability that a drop on the window will get bigger on each iteration.\n",
    "\n",
    "drop_increase = 5 is the number of pixels the drop on a window gets bigger by.\n",
    "\n",
    "reset_size = 50 is the maximum size of a drop. When a drop is bigger than this value, the drop and all drops under it reset their size.\n",
    "\n",
    "Open a new file and import the necessary libraries: Tkinter, random, and time.\n",
    "\n",
    "Create a new Tkinter window and canvas of size 1,000 by 1,000.\n",
    "\n",
    "Add a grid to the window by adding approximately 20 vertical lines and 20 horizontal lines. Intersections of these lines will represent the location of a water drop.\n"
   ]
  },
  {
   "cell_type": "code",
   "execution_count": 1,
   "id": "f8af1007",
   "metadata": {},
   "outputs": [
    {
     "ename": "FileNotFoundError",
     "evalue": "[Errno 2] No such file or directory: 'Raindrops worksheet.txt'",
     "output_type": "error",
     "traceback": [
      "\u001b[1;31m---------------------------------------------------------------------------\u001b[0m",
      "\u001b[1;31mFileNotFoundError\u001b[0m                         Traceback (most recent call last)",
      "Cell \u001b[1;32mIn[1], line 4\u001b[0m\n\u001b[0;32m      2\u001b[0m regexp \u001b[38;5;241m=\u001b[39m re\u001b[38;5;241m.\u001b[39mcompile(\u001b[38;5;124m\"\u001b[39m\u001b[38;5;124mhello\u001b[39m\u001b[38;5;124m\"\u001b[39m)\n\u001b[0;32m      3\u001b[0m count \u001b[38;5;241m=\u001b[39m \u001b[38;5;241m0\u001b[39m\n\u001b[1;32m----> 4\u001b[0m file \u001b[38;5;241m=\u001b[39m \u001b[38;5;28;43mopen\u001b[39;49m\u001b[43m(\u001b[49m\u001b[38;5;124;43m\"\u001b[39;49m\u001b[38;5;124;43mRaindrops worksheet.txt\u001b[39;49m\u001b[38;5;124;43m\"\u001b[39;49m\u001b[43m,\u001b[49m\u001b[43m \u001b[49m\u001b[38;5;124;43m'\u001b[39;49m\u001b[38;5;124;43mr\u001b[39;49m\u001b[38;5;124;43m'\u001b[39;49m\u001b[43m)\u001b[49m\n\u001b[0;32m      5\u001b[0m \u001b[38;5;28;01mfor\u001b[39;00m line \u001b[38;5;129;01min\u001b[39;00m file\u001b[38;5;241m.\u001b[39mreadlines():\n\u001b[0;32m      6\u001b[0m     \u001b[38;5;28;01mif\u001b[39;00m regexp\u001b[38;5;241m.\u001b[39msearch(line):\n",
      "File \u001b[1;32m~\\anaconda3\\lib\\site-packages\\IPython\\core\\interactiveshell.py:284\u001b[0m, in \u001b[0;36m_modified_open\u001b[1;34m(file, *args, **kwargs)\u001b[0m\n\u001b[0;32m    277\u001b[0m \u001b[38;5;28;01mif\u001b[39;00m file \u001b[38;5;129;01min\u001b[39;00m {\u001b[38;5;241m0\u001b[39m, \u001b[38;5;241m1\u001b[39m, \u001b[38;5;241m2\u001b[39m}:\n\u001b[0;32m    278\u001b[0m     \u001b[38;5;28;01mraise\u001b[39;00m \u001b[38;5;167;01mValueError\u001b[39;00m(\n\u001b[0;32m    279\u001b[0m         \u001b[38;5;124mf\u001b[39m\u001b[38;5;124m\"\u001b[39m\u001b[38;5;124mIPython won\u001b[39m\u001b[38;5;124m'\u001b[39m\u001b[38;5;124mt let you open fd=\u001b[39m\u001b[38;5;132;01m{\u001b[39;00mfile\u001b[38;5;132;01m}\u001b[39;00m\u001b[38;5;124m by default \u001b[39m\u001b[38;5;124m\"\u001b[39m\n\u001b[0;32m    280\u001b[0m         \u001b[38;5;124m\"\u001b[39m\u001b[38;5;124mas it is likely to crash IPython. If you know what you are doing, \u001b[39m\u001b[38;5;124m\"\u001b[39m\n\u001b[0;32m    281\u001b[0m         \u001b[38;5;124m\"\u001b[39m\u001b[38;5;124myou can use builtins\u001b[39m\u001b[38;5;124m'\u001b[39m\u001b[38;5;124m open.\u001b[39m\u001b[38;5;124m\"\u001b[39m\n\u001b[0;32m    282\u001b[0m     )\n\u001b[1;32m--> 284\u001b[0m \u001b[38;5;28;01mreturn\u001b[39;00m io_open(file, \u001b[38;5;241m*\u001b[39margs, \u001b[38;5;241m*\u001b[39m\u001b[38;5;241m*\u001b[39mkwargs)\n",
      "\u001b[1;31mFileNotFoundError\u001b[0m: [Errno 2] No such file or directory: 'Raindrops worksheet.txt'"
     ]
    }
   ],
   "source": [
    "import re\n",
    "regexp = re.compile(\"hello\")\n",
    "count = 0\n",
    "file = open(\"Raindrops worksheet.txt\", 'r')\n",
    "for line in file.readlines():\n",
    "    if regexp.search(line):\n",
    "        count = count + 1\n",
    "file.close()\n",
    "print(count)"
   ]
  },
  {
   "cell_type": "code",
   "execution_count": null,
   "id": "18f50920",
   "metadata": {},
   "outputs": [],
   "source": [
    "window_size = 20\n",
    "rain_rate = 0.1 \n",
    "drop increase = 5\n",
    "reset_size = 50\n",
    "total_pixel_size = 800 x 200"
   ]
  },
  {
   "cell_type": "code",
   "execution_count": null,
   "id": "b13dfc09",
   "metadata": {},
   "outputs": [],
   "source": [
    "window_size = 20\n",
    "rain_rate = 0.1 \n",
    "drop increase = 5\n",
    "reset_size = 50\n",
    "drops(initial) = 20X20\n",
    "\n",
    "\n",
    "def rainsize(window_size, rain_rate, drop_increase, reset_size):\n",
    "    for "
   ]
  },
  {
   "cell_type": "code",
   "execution_count": 3,
   "id": "13fbf168",
   "metadata": {},
   "outputs": [
    {
     "name": "stdout",
     "output_type": "stream",
     "text": [
      "14\n",
      "78\n"
     ]
    }
   ],
   "source": [
    "import random\n",
    "random.seed(0)\n",
    "print(random.randint(2,17))\n",
    "print(random.randint(30,88))\n"
   ]
  },
  {
   "cell_type": "code",
   "execution_count": 2,
   "id": "d234471c",
   "metadata": {},
   "outputs": [
    {
     "ename": "AttributeError",
     "evalue": "module 'time' has no attribute 'clock'",
     "output_type": "error",
     "traceback": [
      "\u001b[1;31m---------------------------------------------------------------------------\u001b[0m",
      "\u001b[1;31mAttributeError\u001b[0m                            Traceback (most recent call last)",
      "Cell \u001b[1;32mIn[2], line 3\u001b[0m\n\u001b[0;32m      1\u001b[0m \u001b[38;5;28;01mimport\u001b[39;00m \u001b[38;5;21;01mtime\u001b[39;00m\n\u001b[1;32m----> 3\u001b[0m start \u001b[38;5;241m=\u001b[39m \u001b[43mtime\u001b[49m\u001b[38;5;241;43m.\u001b[39;49m\u001b[43mclock\u001b[49m()\n\u001b[0;32m      5\u001b[0m count \u001b[38;5;241m=\u001b[39m \u001b[38;5;241m0\u001b[39m\n\u001b[0;32m      6\u001b[0m \u001b[38;5;28;01mfor\u001b[39;00m i \u001b[38;5;129;01min\u001b[39;00m \u001b[38;5;28mrange\u001b[39m(\u001b[38;5;241m1000000\u001b[39m):\n",
      "\u001b[1;31mAttributeError\u001b[0m: module 'time' has no attribute 'clock'"
     ]
    }
   ],
   "source": [
    "import time\n",
    "\n",
    "start = time.clock()\n",
    "\n",
    "count = 0\n",
    "for i in range(1000000):\n",
    "    count += 1\n",
    "\n",
    "end = time.clock()\n",
    "print(end-start)"
   ]
  },
  {
   "cell_type": "code",
   "execution_count": null,
   "id": "0c3842de",
   "metadata": {},
   "outputs": [],
   "source": []
  },
  {
   "cell_type": "code",
   "execution_count": null,
   "id": "4bdb339c",
   "metadata": {},
   "outputs": [],
   "source": []
  },
  {
   "cell_type": "code",
   "execution_count": null,
   "id": "a2889966",
   "metadata": {},
   "outputs": [],
   "source": []
  },
  {
   "cell_type": "code",
   "execution_count": null,
   "id": "ab0669c1",
   "metadata": {},
   "outputs": [],
   "source": [
    "import tkinter\n",
    "import random\n",
    "import time"
   ]
  },
  {
   "cell_type": "markdown",
   "id": "66499b1b",
   "metadata": {},
   "source": [
    "**Partial Solution template**"
   ]
  },
  {
   "cell_type": "code",
   "execution_count": null,
   "id": "a102465c",
   "metadata": {},
   "outputs": [],
   "source": [
    "import tkinter\n",
    "window = tkinter.Tk()\n",
    "window.geometry(\"800x200\")\n",
    "window.title(\"My first GUI\")\n",
    "window.configure(background=\"grey\")\n",
    "\n",
    "red = tkinter.Button(window, text=\"Red\", bg=\"red\")\n",
    "red.pack()\n",
    "\n",
    "yellow = tkinter.Button(window, text=\"Yellow\", bg=\"yellow\")\n",
    "yellow.pack()\n",
    "\n",
    "green = tkinter.Button(window, text=\"Green\", bg=\"green\")\n",
    "green.pack()\n",
    "\n",
    "textbox = tkinter.Entry(window)\n",
    "textbox.pack()\n",
    "\n",
    "colorlabel = tkinter.Label(window, height=\"10\", width=\"10\")\n",
    "colorlabel.pack()\n",
    "\n",
    "window.mainloop()\n",
    "copy"
   ]
  },
  {
   "cell_type": "code",
   "execution_count": null,
   "id": "598a37a3",
   "metadata": {},
   "outputs": [],
   "source": [
    "Pseudocode plan\n",
    "\n",
    "# To begin with, we will have 20 x 20 drops of water, evenly spaced out\n",
    "#Initialize\n",
    "\n",
    "window_size = 20\n",
    "x_axis = 20\n",
    "y_axis = 20\n",
    "\n",
    "drops = 0\n",
    "count = 0\n",
    "\n",
    "#Probability drops increase\n",
    "\n",
    "rain_rate * drops =drop_size\n",
    "drop_increase = drop_size * 5\n",
    "\n",
    "\n",
    "while drop_size < 50:\n",
    "    if window_size = 20:\n",
    "        drops += 1\n",
    "        rain_rate * drops\n",
    "        drop_increase = drop_size * 5\n",
    "    else:\n",
    "        reset_size\n",
    "    \n",
    "    \n",
    "    \n",
    "    \n",
    "    \n",
    "\n",
    "\n",
    "\n",
    "\n",
    "\n"
   ]
  },
  {
   "cell_type": "code",
   "execution_count": null,
   "id": "1942a7a8",
   "metadata": {},
   "outputs": [],
   "source": []
  },
  {
   "cell_type": "code",
   "execution_count": null,
   "id": "435e40e3",
   "metadata": {},
   "outputs": [],
   "source": []
  },
  {
   "cell_type": "code",
   "execution_count": null,
   "id": "edf7a981",
   "metadata": {},
   "outputs": [],
   "source": []
  }
 ],
 "metadata": {
  "kernelspec": {
   "display_name": "Python 3 (ipykernel)",
   "language": "python",
   "name": "python3"
  },
  "language_info": {
   "codemirror_mode": {
    "name": "ipython",
    "version": 3
   },
   "file_extension": ".py",
   "mimetype": "text/x-python",
   "name": "python",
   "nbconvert_exporter": "python",
   "pygments_lexer": "ipython3",
   "version": "3.9.16"
  }
 },
 "nbformat": 4,
 "nbformat_minor": 5
}
