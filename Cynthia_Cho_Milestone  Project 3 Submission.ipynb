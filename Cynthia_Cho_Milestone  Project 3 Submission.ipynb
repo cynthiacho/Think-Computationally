{
 "cells": [
  {
   "cell_type": "code",
   "execution_count": null,
   "id": "0c3842de",
   "metadata": {},
   "outputs": [],
   "source": [
    "import random\n",
    "import tkinter as tk\n",
    "import time\n",
    "\n",
    "window_size = 20 # how many drops there are on the x and y axes (equally distributed)\n",
    "rain_rate = 0.1 # probability that a drop on the window gets bigger\n",
    "drop_increase = 5  # drop on a window gets bigger by 5 pixels when a rain drop falls at that location\n",
    "reset_size = 50 # when a drop on a window gets bigger than this value, the drop \n",
    "               # and all drops under it reset to 0"
   ]
  },
  {
   "cell_type": "code",
   "execution_count": null,
   "id": "ce51df8e",
   "metadata": {},
   "outputs": [],
   "source": [
    "# initialize window\n",
    "window = [[2]*int(window_size) for _ in range(int(window_size))]\n",
    "random.seed(0)\n",
    "\n",
    "def draw_drops(window):\n",
    "    w = c.winfo_width() # Get current width of canvas\n",
    "    h = c.winfo_height() # Get current height of canvas\n",
    "    c.delete('drops') # remove all drops before redrawing\n",
    "    for i,row in enumerate(window):\n",
    "        for j,col in enumerate(row):\n",
    "            #             top left bottom right bbox\n",
    "            left = (w//(window_size+1)*i) + w//(window_size+1)-window[i][j]//2\n",
    "            bottom = (h//(window_size+1)*j) + h//(window_size+1)-window[i][j]//2\n",
    "            right = (w//(window_size+1)*i) + w//(window_size+1) + window[i][j]//2\n",
    "            top = (h//(window_size+1)*j) + h//(window_size+1) + window[i][j]//2\n",
    "            c.create_oval(top, left, bottom, right, outline=\"black\",\n",
    "                fill=\"blue\", width=2, tag='drops')\n",
    "    c.update()\n",
    "\n",
    "def create_window(event=None):\n",
    "    w = c.winfo_width() # Get current width of canvas\n",
    "    h = c.winfo_height() # Get current height of canvas\n",
    "#    c.delete('grid_line') # Will only remove the grid_line\n",
    "\n",
    "    # add vertical lines\n",
    "    for i in range(0, w, w//(window_size+1)):\n",
    "        c.create_line([(i, 0), (i, h)], tag='grid_line')\n",
    "    # add horizontal lines\n",
    "    for i in range(0, h, h//(window_size+1)):\n",
    "        c.create_line([(0, i), (w, i)], tag='grid_line')\n",
    "    # add circles to simulate drops\n",
    "    draw_drops(window)\n",
    "\n",
    "root = tk.Tk()\n",
    "c = tk.Canvas(root, height=1000, width=1000, bg='white')\n",
    "c.pack(fill=tk.BOTH, expand=True)\n",
    "c.bind('<Configure>', create_window)\n",
    "time.sleep(0.5)\n",
    "# simulating rain falling 25 times on entire window\n",
    "for i in range(500):\n",
    "    for i,row in enumerate(window):\n",
    "        for j,col in enumerate(row):\n",
    "            # L[i][j] is the point on our window\n",
    "            r = random.random()\n",
    "            if r < rain_rate:\n",
    "                window[i][j] += drop_increase\n",
    "                if window[i][j] > reset_size:\n",
    "                    # reset this and all window drops below it to 0\n",
    "                    for k in range(i,len(window)):\n",
    "                        window[k][j] = 2      \n",
    "    # update canvas with new drop sizes  \n",
    "    draw_drops(window)   \n",
    "    time.sleep(0.1)\n",
    "      \n",
    "                \n",
    "#\n",
    "root.mainloop()"
   ]
  },
  {
   "cell_type": "code",
   "execution_count": null,
   "id": "fd1d2bfd",
   "metadata": {},
   "outputs": [],
   "source": []
  }
 ],
 "metadata": {
  "kernelspec": {
   "display_name": "Python 3 (ipykernel)",
   "language": "python",
   "name": "python3"
  },
  "language_info": {
   "codemirror_mode": {
    "name": "ipython",
    "version": 3
   },
   "file_extension": ".py",
   "mimetype": "text/x-python",
   "name": "python",
   "nbconvert_exporter": "python",
   "pygments_lexer": "ipython3",
   "version": "3.9.16"
  }
 },
 "nbformat": 4,
 "nbformat_minor": 5
}
