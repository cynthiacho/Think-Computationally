{
 "cells": [
  {
   "cell_type": "markdown",
   "id": "6f2dcc49",
   "metadata": {},
   "source": [
    "**Sources:**\n",
    "\n",
    "\n",
    "\n",
    "https://livebook.manning.com/book/the-quick-python-book-third-edition/chapter-9/15\n",
    "\n",
    "https://livebook.manning.com/book/get-programming/chapter-27/100\n",
    "\n",
    "https://livevideo.manning.com/module/55_1_1/get-programming-with-python-in-motion/learning-how-to-program/why-learn-to-program%3f?\n",
    "    \n",
    "https://stackoverflow.com/questions/12995434/representing-and-solving-a-maze-given-an-image\n",
    "\n",
    "https://livebook.manning.com/book/the-quick-python-book-third-edition/chapter-9/9"
   ]
  },
  {
   "cell_type": "markdown",
   "id": "b4baeb04",
   "metadata": {},
   "source": [
    "**Objective**\n",
    "\n",
    "Decide how a maze will be represented, including any special characters you’ll use to represent the starting point, exit point, and maze walls. You’ll use ASCII characters. \n",
    "\n",
    "The outcome will be a string variable that holds the maze representation and a list variable that holds a maze representation that is easier to manipulate. When you print the code, you’ll see the maze printed on the screen in the correct format.\n",
    "\n",
    "You will use the following maze algorithm to find the exit. \n",
    "\n",
    "Note that it only works for mazes that do not contain islands and whose exit point is against a wall. \n",
    "\n",
    "For example, it works on this (o is the starting point and x is the exit point; asterisks indicate walls):"
   ]
  },
  {
   "cell_type": "code",
   "execution_count": 1,
   "id": "506679f2",
   "metadata": {},
   "outputs": [
    {
     "name": "stdout",
     "output_type": "stream",
     "text": [
      "*******\n",
      "*o    *\n",
      "* x****\n",
      "*     *\n",
      "*******\n",
      "\n",
      "Current position: (1, 1)\n"
     ]
    }
   ],
   "source": [
    "maze = (\"*******\\n\"\n",
    "        \"*o    *\\n\"\n",
    "        \"* x****\\n\"\n",
    "        \"*     *\\n\"\n",
    "        \"*******\\n\"\n",
    "        )\n",
    "\n",
    "# variable initializations        \n",
    "height = maze.count('\\n')\n",
    "width = maze.find('\\n')\n",
    "start = maze.find('o')\n",
    "wall = \"*\"\n",
    "exitchar = \"x\"\n",
    "orientation = \"north\"\n",
    "\n",
    "\n",
    "# a tuple of tuples of (position, orientation)\n",
    "seen = ()\n",
    "\n",
    "# current_pos is the position in the 2D maze version\n",
    "\n",
    "current_pos = (start//(width+1),((start-start//(width+1))%(width)))\n",
    "\n",
    "# pos is the position in the 1D maze\n",
    "\n",
    "pos = current_pos[0]*(width+1)+current_pos[1]\n",
    "print(maze)\n",
    "print(\"Current position:\", current_pos)\n",
    "\n"
   ]
  },
  {
   "cell_type": "code",
   "execution_count": 2,
   "id": "8c6eb66f",
   "metadata": {},
   "outputs": [
    {
     "name": "stdout",
     "output_type": "stream",
     "text": [
      "At (1, 1) facing north\n",
      "At (1, 2) facing east\n"
     ]
    }
   ],
   "source": [
    "# Iterate until exit found or reached a position/orientation already seen\n",
    "\n",
    "while(maze[pos] != exitchar and (current_pos, orientation) not in seen):\n",
    "    # show the steps taken    \n",
    "    print(\"At\", current_pos, \"facing\", orientation)\n",
    "    \n",
    "    # add current position/orientation to list of seen\n",
    "    seen = seen + ((current_pos,orientation),)\n",
    "    \n",
    "    # cases organized by current orientations\n",
    "    if orientation == \"north\" :\n",
    "        # if cell immediately right available, turn and move right\n",
    "        if maze[pos+1] != wall:\n",
    "            orientation = \"east\"\n",
    "            current_pos = (current_pos[0], current_pos[1]+1)\n",
    "            \n",
    "        # if cell immediately forward available, go there\n",
    "        elif maze[pos-width-1] != wall:\n",
    "            current_pos = (current_pos[0]-1, current_pos[1])\n",
    "            \n",
    "        # if cell immediately left available, turn and move left\n",
    "        \n",
    "        elif maze[pos-1] != wall:\n",
    "            orientation = \"west\"\n",
    "            current_pos = (current_pos[0], current_pos[1]-1)\n",
    "            \n",
    "        # can't move right, forward, or left\n",
    "        # so turn around but don't move\n",
    "        \n",
    "        else:\n",
    "            orientation = \"south\"\n",
    "    elif orientation == \"east\":\n",
    "        if maze[pos+width+1] != wall:\n",
    "            orientation = \"south\"\n",
    "            current_pos = (current_pos[0]+1, current_pos[1])\n",
    "        elif maze[pos+1] != wall:\n",
    "            current_pos = (current_pos[0], current_pos[1]+1)\n",
    "        elif maze[pos-width-1] != wall:\n",
    "            orientation = \"north\"\n",
    "            current_pos = (current_pos[0]-1, current_pos[1])\n",
    "        else:\n",
    "            orientation = \"west\"\n",
    "    elif orientation == \"south\":\n",
    "        if maze[pos-1] != wall:\n",
    "            orientation = \"west\"\n",
    "            current_pos = (current_pos[0], current_pos[1]-1)\n",
    "        elif maze[pos+width+1] != wall:\n",
    "            current_pos = (current_pos[0]+1, current_pos[1])\n",
    "        elif maze[pos+1] != wall:\n",
    "            orientation = \"east\"\n",
    "            current_pos = (current_pos[0], current_pos[1]+1)\n",
    "        else:\n",
    "            orientation = \"north\"\n",
    "    elif orientation == \"west\":\n",
    "        if maze[pos-width-1] != wall:\n",
    "            orientation = \"north\"\n",
    "            current_pos = (current_pos[0]-1, current_pos[1])\n",
    "        elif maze[pos-1] != wall:\n",
    "            current_pos = (current_pos[0], current_pos[1]-1)\n",
    "        elif maze[pos+width+1] != wall:\n",
    "            orientation = \"south\"\n",
    "            current_pos = (current_pos[0]+1, current_pos[1])\n",
    "        else:\n",
    "            orientation = \"east\"\n",
    "    pos = current_pos[0]*(width+1)+current_pos[1]"
   ]
  },
  {
   "cell_type": "code",
   "execution_count": 3,
   "id": "c9a38616",
   "metadata": {},
   "outputs": [
    {
     "name": "stdout",
     "output_type": "stream",
     "text": [
      "Exit at (2, 2)\n"
     ]
    }
   ],
   "source": [
    "# check for why exited the loop\n",
    "if (current_pos, orientation) not in seen:\n",
    "    print(\"Exit at\", current_pos)\n",
    "else:\n",
    "    print(\"Exit not found\")"
   ]
  }
 ],
 "metadata": {
  "kernelspec": {
   "display_name": "Python 3 (ipykernel)",
   "language": "python",
   "name": "python3"
  },
  "language_info": {
   "codemirror_mode": {
    "name": "ipython",
    "version": 3
   },
   "file_extension": ".py",
   "mimetype": "text/x-python",
   "name": "python",
   "nbconvert_exporter": "python",
   "pygments_lexer": "ipython3",
   "version": "3.9.16"
  }
 },
 "nbformat": 4,
 "nbformat_minor": 5
}
