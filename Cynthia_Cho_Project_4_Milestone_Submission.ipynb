{
 "cells": [
  {
   "cell_type": "code",
   "execution_count": 1,
   "id": "232caa05",
   "metadata": {},
   "outputs": [
    {
     "name": "stdout",
     "output_type": "stream",
     "text": [
      "minimize tasks left!\n",
      "['todo 2', 'todo 1', 'todo 1', 'todo 1', 'project 1', 'project 1', 'email', 'email', 'email', 'email']\n"
     ]
    }
   ],
   "source": [
    "# task: (total_time, burst) \n",
    "    # total_time is how long the task takes\n",
    "    # burst is how many times you can break up the task\n",
    "# minimize the time left over\n",
    "# minimize the number of times you switch tasks\n",
    "\n",
    "tasks = {\"email\": (4, 4), \"project 1\": (2, 2), \"todo 1\": (3, 3), \"todo 2\": (2, 2)}\n",
    "day_length = 10\n",
    "\n",
    "# make all possible combinations of tasks of any size\n",
    "def all_task_subsets(L):\n",
    "    \"\"\"\n",
    "    d is a dict mapping str:tuple\n",
    "    Returns all combinations of keys in d as a list of lists.\n",
    "    The combinations can be of any length. \n",
    "    \"\"\"\n",
    "    if len(L) == 0:\n",
    "        return [[]]\n",
    "    subset = []\n",
    "    for c in all_task_subsets(L[1:]):\n",
    "        subset += [c, c + [L[0]]]\n",
    "    return subset\n",
    "\n",
    "# minimize the time left between the day length and a set of tasks\n",
    "def min_time_left(tasksnew, task_subsets):\n",
    "    potential_tasks = []\n",
    "    min_time_left = float('inf')\n",
    "    for t in task_subsets:\n",
    "        time = 0\n",
    "        for s in t:\n",
    "            time += tasksnew[s][0]\n",
    "        time_left = day_length - time\n",
    "        if time_left >= 0 and time_left < min_time_left:\n",
    "            min_time_left = time_left\n",
    "            potential_tasks = t\n",
    "    return potential_tasks\n",
    "\n",
    "# minimize the number of times you switch tasks\n",
    "def min_task_switch(tasksnew, task_subsets):\n",
    "    potential_tasks = []\n",
    "    task_switch = float('inf')\n",
    "    for t in task_subsets:\n",
    "        time = 0\n",
    "        for s in t:\n",
    "            time += tasksnew[s][0]\n",
    "        time_left = day_length - time\n",
    "        if time_left >= 0 and t != [] and len(t) < task_switch:\n",
    "            task_switch = len(t)\n",
    "            potential_tasks = t\n",
    "    return potential_tasks\n",
    "\n",
    "def make_bursts(d):\n",
    "    L = []\n",
    "    dnew = {}\n",
    "    for k, v in d.items():\n",
    "        for t in range(v[1]):\n",
    "            L.append(k)\n",
    "        dnew[k] = (v[0]/v[1],1)\n",
    "    return dnew,L\n",
    "\n",
    "    \n",
    "task_label = []    \n",
    "def what_to_min(f, tasks):\n",
    "    tasksnew, burst_tasks = make_bursts(tasks)    \n",
    "    task_subsets = all_task_subsets(burst_tasks)\n",
    "    L = f(tasksnew, task_subsets)\n",
    "    print(L)\n",
    "\n",
    "tasks = {\"email\": (4, 4), \"project 1\": (2, 2), \"todo 1\": (3, 3), \"todo 2\": (2, 2)}\n",
    "print(\"minimize tasks left!\")\n",
    "what_to_min(min_time_left, tasks)\n"
   ]
  }
 ],
 "metadata": {
  "kernelspec": {
   "display_name": "Python 3 (ipykernel)",
   "language": "python",
   "name": "python3"
  },
  "language_info": {
   "codemirror_mode": {
    "name": "ipython",
    "version": 3
   },
   "file_extension": ".py",
   "mimetype": "text/x-python",
   "name": "python",
   "nbconvert_exporter": "python",
   "pygments_lexer": "ipython3",
   "version": "3.9.16"
  }
 },
 "nbformat": 4,
 "nbformat_minor": 5
}
