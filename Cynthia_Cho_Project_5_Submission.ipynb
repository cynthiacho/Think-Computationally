{
 "cells": [
  {
   "cell_type": "code",
   "execution_count": 2,
   "id": "f2b16368",
   "metadata": {},
   "outputs": [],
   "source": [
    "import numpy as np\n",
    "import pandas as pd"
   ]
  },
  {
   "cell_type": "code",
   "execution_count": 3,
   "id": "0f05baf0",
   "metadata": {},
   "outputs": [],
   "source": [
    "from tkinter import *\n",
    "import pandas\n",
    "\n",
    "def parse_east(line):\n",
    "    parts = line.split(\",\")\n",
    "    parts0 = parts[0].split()\n",
    "    parts1 = parts[1].split()\n",
    "    if parts0[0].lower() == \"east\":\n",
    "        return int(parts0[1])\n",
    "    elif parts1[0].lower() == \"east\":\n",
    "        return int(parts1[1])\n",
    "\n",
    "def parse_west(line):\n",
    "    parts = line.split(\",\")\n",
    "    parts0 = parts[0].split()\n",
    "    parts1 = parts[1].split()\n",
    "    if parts0[0].lower() == \"west\":\n",
    "        return int(parts0[1])\n",
    "    elif parts1[0].lower() == \"west\":\n",
    "        return int(parts1[1])\n",
    "\n",
    "def s(L):\n",
    "    return sum(L)\n",
    "        \n",
    "url=\"https://en.wikipedia.org/wiki/NBA_All-Star_Game\"\n",
    "table = pandas.read_html(url,header=0,index_col=0,parse_dates=True)\n",
    "df = pandas.DataFrame(table[2])\n",
    "df = df.dropna(how='any')"
   ]
  },
  {
   "cell_type": "code",
   "execution_count": 4,
   "id": "f1982d84",
   "metadata": {},
   "outputs": [
    {
     "name": "stdout",
     "output_type": "stream",
     "text": [
      "Max difference:\n",
      "             East  West  Diff\n",
      "Host city                    \n",
      "Cincinnati  137.0  94.0  43.0\n",
      "\n",
      "Min difference:\n",
      "             East   West  Diff\n",
      "Host city                     \n",
      "Milwaukee   124.0  125.0   1.0\n",
      "San Diego   107.0  108.0   1.0\n",
      "Washington  111.0  110.0   1.0\n",
      "\n",
      "Cities who hosted the game more than once:\n",
      "                     East        West       Diff  Count\n",
      "Host city                                              \n",
      "Atlanta        139.000000  140.000000   9.000000      2\n",
      "Seattle        136.000000  144.000000   8.000000      2\n",
      "Chicago        121.000000  108.500000  12.500000      2\n",
      "Inglewood      121.000000  117.500000   5.500000      2\n",
      "Orlando        131.000000  152.500000  21.500000      2\n",
      "Denver         139.500000  130.000000   9.500000      2\n",
      "Houston        131.333333  135.333333   5.333333      3\n",
      "New Orleans    159.666667  158.333333   8.000000      3\n",
      "St. Louis      128.000000  130.333333  11.000000      3\n",
      "Los Angeles    130.000000  130.666667   5.333333      3\n",
      "Phoenix        113.000000  129.000000  20.000000      3\n",
      "Boston         109.750000   97.250000  12.500000      4\n",
      "Philadelphia   127.500000  123.500000  11.500000      4\n",
      "New York City  127.000000  117.000000  12.000000      5\n"
     ]
    }
   ],
   "source": [
    "df_east = df.loc[:,\"Result\"]\n",
    "df_east = df_east.apply(parse_east)\n",
    "df_west = df.loc[:,\"Result\"]\n",
    "df_west = df_west.apply(parse_west)\n",
    "del(df[\"Result\"])\n",
    "del(df[\"Host arena\"])\n",
    "del(df[\"Game MVP\"])\n",
    "df.insert(0,\"West\",df_west)\n",
    "df.insert(0,\"East\",df_east)\n",
    "df = df.rename(index=lambda s: s.split(\"[\")[0])\n",
    "df = df.dropna(how='any')\n",
    "df[\"Host city\"] = df[\"Host city\"].apply(lambda s: s.strip().split(\",\")[0])\n",
    "\n",
    "df['Diff'] = abs(df['East'] - df['West'])\n",
    "dfd = df.groupby('Diff').size().sort_values(ascending=False)\n",
    "dfg = df.groupby('Host city').mean()\n",
    "\n",
    "## 1.\tWhat is the maximum and minimum score difference between all games?\n",
    "maxdiff = max(dfg[\"Diff\"])\n",
    "print(\"Max difference:\")\n",
    "print(dfg.loc[dfg[\"Diff\"] == maxdiff])\n",
    "mindiff = min(dfg[\"Diff\"])\n",
    "print()\n",
    "print(\"Min difference:\")\n",
    "print(dfg.loc[dfg[\"Diff\"] == mindiff])\n",
    "\n",
    "## 2.\tIf a city hosted a game more than once, what was the average score \n",
    "## for the Eastern Conference team and the Western Conference team? \n",
    "size = df.groupby('Host city').size()\n",
    "dfg[\"Count\"] = size\n",
    "dfg = dfg.sort_values('Count')\n",
    "dfg = dfg[dfg['Count'] > 1]\n",
    "print()\n",
    "print(\"Cities who hosted the game more than once:\")\n",
    "print(dfg)\n",
    "\n"
   ]
  },
  {
   "cell_type": "code",
   "execution_count": null,
   "id": "fce875ac",
   "metadata": {},
   "outputs": [],
   "source": []
  }
 ],
 "metadata": {
  "kernelspec": {
   "display_name": "Python 3 (ipykernel)",
   "language": "python",
   "name": "python3"
  },
  "language_info": {
   "codemirror_mode": {
    "name": "ipython",
    "version": 3
   },
   "file_extension": ".py",
   "mimetype": "text/x-python",
   "name": "python",
   "nbconvert_exporter": "python",
   "pygments_lexer": "ipython3",
   "version": "3.9.16"
  }
 },
 "nbformat": 4,
 "nbformat_minor": 5
}
