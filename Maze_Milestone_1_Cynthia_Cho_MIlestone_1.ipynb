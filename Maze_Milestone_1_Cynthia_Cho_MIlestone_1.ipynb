{
 "cells": [
  {
   "cell_type": "markdown",
   "id": "6f2dcc49",
   "metadata": {},
   "source": [
    "**Sources:**\n",
    "\n",
    "\n",
    "\n",
    "https://livebook.manning.com/book/the-quick-python-book-third-edition/chapter-9/15\n",
    "\n",
    "https://livebook.manning.com/book/get-programming/chapter-27/100\n",
    "\n",
    "https://livevideo.manning.com/module/55_1_1/get-programming-with-python-in-motion/learning-how-to-program/why-learn-to-program%3f?\n",
    "    \n",
    "https://stackoverflow.com/questions/12995434/representing-and-solving-a-maze-given-an-image\n",
    "\n",
    "https://livebook.manning.com/book/the-quick-python-book-third-edition/chapter-9/9"
   ]
  },
  {
   "cell_type": "markdown",
   "id": "b4baeb04",
   "metadata": {},
   "source": [
    "**Objective**\n",
    "\n",
    "Decide how a maze will be represented, including any special characters you’ll use to represent the starting point, exit point, and maze walls. You’ll use ASCII characters. \n",
    "\n",
    "The outcome will be a string variable that holds the maze representation and a list variable that holds a maze representation that is easier to manipulate. When you print the code, you’ll see the maze printed on the screen in the correct format.\n",
    "\n",
    "You will use the following maze algorithm to find the exit. \n",
    "\n",
    "Note that it only works for mazes that do not contain islands and whose exit point is against a wall. \n",
    "\n",
    "For example, it works on this (o is the starting point and x is the exit point; asterisks indicate walls):"
   ]
  },
  {
   "cell_type": "code",
   "execution_count": null,
   "id": "506679f2",
   "metadata": {},
   "outputs": [],
   "source": []
  },
  {
   "cell_type": "markdown",
   "id": "7ac65cee",
   "metadata": {},
   "source": [
    "x = \"x\"\n",
    "\n",
    "o = \"o\"\n",
    "\n",
    "empty = \"_\"\n",
    "\n",
    "board = [[x, empty, 0], [empty, x, o], [x, empty, empty]]"
   ]
  },
  {
   "cell_type": "code",
   "execution_count": null,
   "id": "8c6eb66f",
   "metadata": {},
   "outputs": [],
   "source": []
  },
  {
   "cell_type": "code",
   "execution_count": 43,
   "id": "1c0be599",
   "metadata": {},
   "outputs": [
    {
     "name": "stdout",
     "output_type": "stream",
     "text": [
      "['zebra@zoo.com', ' red@colors.com', 'tom@book.com', 'carrot@veg.com']\n"
     ]
    }
   ],
   "source": [
    "emails=\"zebra@zoo.com, red@colors.com,tom@book.com,carrot@veg.com\"\n",
    "emails_list = emails.split(\",\")\n",
    "print(emails_list)"
   ]
  },
  {
   "cell_type": "code",
   "execution_count": 44,
   "id": "933111ea",
   "metadata": {},
   "outputs": [
    {
     "name": "stdout",
     "output_type": "stream",
     "text": [
      "['xox', 'oox', 'xoo']\n",
      "x\n",
      "o\n"
     ]
    }
   ],
   "source": [
    "game = \"xox|oox|xoo\"\n",
    "board = game.split(\"|\")\n",
    "print(board)\n",
    "print(board[0][0])\n",
    "print(board[0][1])"
   ]
  },
  {
   "cell_type": "code",
   "execution_count": 45,
   "id": "247581ed",
   "metadata": {},
   "outputs": [
    {
     "ename": "IndentationError",
     "evalue": "unexpected indent (1665096722.py, line 6)",
     "output_type": "error",
     "traceback": [
      "\u001b[1;36m  Cell \u001b[1;32mIn[45], line 6\u001b[1;36m\u001b[0m\n\u001b[1;33m    token: string representing either x or o\u001b[0m\n\u001b[1;37m    ^\u001b[0m\n\u001b[1;31mIndentationError\u001b[0m\u001b[1;31m:\u001b[0m unexpected indent\n"
     ]
    }
   ],
   "source": [
    "def check_player_win(board,token):\n",
    "    \n",
    "    \"\"\"board: list of strings representing a tic-tac-toe board\n",
    "           where a row is a string of 3 tokens\"\"\"\n",
    "           \n",
    "       token: string representing either x or o\n",
    "    \n",
    "       Checks 8 possible winning combinations for a tic-tac-toe win:\n",
    "       3 rows matching the token, 3 columns matching the token, or 2\n",
    "       diagonals matching the token.\n",
    "    \n",
    "       Returns True if the token got 3 in a row with any of the possible combinations,\n",
    "       and returns False otherwise.\"\"\"\n",
    "    \n",
    "    \n",
    "row1 = (board[0][0] == board[0][1] == board[0][2] == token)\n",
    "row2 = (board[1][0] == board[1][1] == board[1][2] == token)\n",
    "row3 = (board[2][0] == board[2][1] == board[2][2] == token)\n",
    "col =  (board[0][0] == board[1][0] == board[2][0] == token)\n",
    "col2 = (board[0][1] == board[1][1] == board[2][1] == token)\n",
    "col3 = (board[0][2] == board[1][2] == board[2][2] == token)\n",
    "diag1 = (board[0][0] == board[1][1] == board[2][2] == token)\n",
    "diag2 = (board[2][0] == board[1][1] == board[0][2] == token)\n",
    "return row1 or row2 or row3 or col1 or col2 or col3 or diag1 or diag2 \n",
    "\n",
    "#game = \"xox|oox|xxo\"\n",
    "\n",
    "token: string representing either x or o\n",
    "\n",
    "board = game.split(\"|\")\n",
    "\n",
    "winner_o = check_player_win(board, \"o\")\n",
    "winner_x = check_player_win(board, \"x\")\n",
    "\n",
    "if not winner_o and not_winner_x:\n",
    "    print(\"It's a draw!\")\n",
    "elif winner_o:\n",
    "    print(\"o is the winner!\")    \n",
    "elif winner_x:\n",
    "    print(\"x is the winner!\")\n",
    "else:\n",
    "    print(\"It's a draw!\")"
   ]
  },
  {
   "cell_type": "code",
   "execution_count": null,
   "id": "c63798b5",
   "metadata": {},
   "outputs": [],
   "source": [
    "\n",
    "\n",
    "#There will be 4 rows and 5 columns\n",
    "[empty, empty, empty, empty, empty]\n",
    "[exit, exit, exit, exit, exit]\n",
    "\n",
    "\n",
    "\n",
    "\n",
    "row1 = (board[0][0] == board[0][1] == board[0][2] == token)\n",
    "row2 = (board[1][0] == board[1][1] == board[1][2] == token)\n",
    "row3 = (board[2][0] == board[2][1] == board[2][2] == token)\n",
    "col =  (board[0][0] == board[1][0] == board[2][0] == token)\n",
    "col2 = (board[0][1] == board[1][1] == board[2][1] == token)\n",
    "col3 = (board[0][2] == board[1][2] == board[2][2] == token)\n",
    "diag1 = (board[0][0] == board[1][1] == board[2][2] == token)\n",
    "diag2 = (board[2][0] == board[1][1] == board[0][2] == token)\n",
    "return row1 or row2 or row3 or col1 or col2 or col3 or diag1 or diag2\n"
   ]
  },
  {
   "cell_type": "code",
   "execution_count": null,
   "id": "c9a38616",
   "metadata": {},
   "outputs": [],
   "source": []
  },
  {
   "cell_type": "code",
   "execution_count": 5,
   "id": "6da86201",
   "metadata": {},
   "outputs": [
    {
     "name": "stdout",
     "output_type": "stream",
     "text": [
      "['*', '*', '*', '*', '*', '*', '*'] \n",
      "\n",
      "['*', 'o', '', '', '', '', '', '*'] \n",
      "\n",
      "['*', '', 'x', '*', '*', '*', '*'] \n",
      "\n",
      "['*', '', '', '', '', '', '', '*'] \n",
      "\n",
      "['*', '*', '*', '*', '*', '*', '*']\n"
     ]
    }
   ],
   "source": [
    "starting_point = 'o'\n",
    "exit = 'x'\n",
    "wall = '*'\n",
    "empty = ''\n",
    "\n",
    "#maze=\n",
    "\n",
    "#*******\n",
    "#*o    *\n",
    "#* x****\n",
    "#*     *\n",
    "#*******\"\"\n",
    "\n",
    "height = 5\n",
    "\n",
    "width =  2\n",
    "\n",
    "start_position = 'o' \n",
    "\n",
    "#initial orientation =\n",
    "\n",
    "row1 = [wall,wall,wall,wall,wall,wall,wall]\n",
    "\n",
    "row2 = [wall,start_position,empty,empty,empty,empty,empty,wall]\n",
    "\n",
    "row3 = [wall,empty,exit,wall,wall,wall,wall]\n",
    "\n",
    "row4 = [wall,empty,empty,empty,empty,empty,empty,wall]\n",
    "\n",
    "row5 = [wall,wall,wall,wall,wall,wall,wall]\n",
    "\n",
    "\n",
    "print(row1,'\\n')\n",
    "\n",
    "#line1 = row1.split('\\n')\n",
    "#print('\\n'.join(line1))\n",
    "\n",
    "print(row2,'\\n')\n",
    "#line2=row2.split('\\n')\n",
    "#print('\\n'.join(line2))\n",
    "\n",
    "\n",
    "print(row3,'\\n')\n",
    "#line3=row3.split('\\n')\n",
    "#print('\\n'.join(line3))\n",
    "\n",
    "print(row4,'\\n')\n",
    "#line4 =row4.split('\\n')\n",
    "#print('\\n'.join(line4))\n",
    "\n",
    "print(row5)\n"
   ]
  },
  {
   "cell_type": "markdown",
   "id": "b33cd27e",
   "metadata": {},
   "source": [
    "Set up a variable that tracks the position of the player, initially the starting position in the maze.\n",
    "\n",
    "Set up a loop that exits under one of two conditions. You’ll write the contents of this loop in the next milestone. \n",
    "\n",
    "These are the two conditions:\n",
    "\n",
    "a. You found the exit (your player’s position is the exit position).\n",
    "\n",
    "b. You’ve gone through all possible mazes.\n",
    "\n",
    "After exiting the loop, check why you exited and print an appropriate message to the screen."
   ]
  },
  {
   "cell_type": "code",
   "execution_count": null,
   "id": "edc21a7b",
   "metadata": {},
   "outputs": [],
   "source": [
    "def_enter(starting_point, )"
   ]
  },
  {
   "cell_type": "markdown",
   "id": "7431f698",
   "metadata": {},
   "source": [
    "\n",
    "\n",
    "\n",
    "An infinite loop breaks when either (1) our current location is the same as the exit location or (2) we’ve visited a coordinate we’ve already seen.\n",
    "\n",
    "Add the current position/orientation to the list of seen (position, orientation) pairs.\n",
    "\n",
    "For each orientation, check if the character can move right; if not, then forward; if not, then left; and if not, then backward. Adjust the position according to which step you took. A step just consists of incrementing either the x or y coordinate.\n",
    "\n",
    "After exiting the loop, check why you exited the loop. Either you (1) found the exit or (2) visited every coordinate (in other words, no exit was found).\n",
    "\n",
    "download partial solution\n"
   ]
  }
 ],
 "metadata": {
  "kernelspec": {
   "display_name": "Python 3 (ipykernel)",
   "language": "python",
   "name": "python3"
  },
  "language_info": {
   "codemirror_mode": {
    "name": "ipython",
    "version": 3
   },
   "file_extension": ".py",
   "mimetype": "text/x-python",
   "name": "python",
   "nbconvert_exporter": "python",
   "pygments_lexer": "ipython3",
   "version": "3.9.16"
  }
 },
 "nbformat": 4,
 "nbformat_minor": 5
}
